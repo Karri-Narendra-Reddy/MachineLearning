{
  "nbformat": 4,
  "nbformat_minor": 0,
  "metadata": {
    "colab": {
      "name": "cycle 2_3.ipynb",
      "provenance": [],
      "collapsed_sections": [],
      "authorship_tag": "ABX9TyPE6rj60PLX0npJUxpsAbad",
      "include_colab_link": true
    },
    "kernelspec": {
      "name": "python3",
      "display_name": "Python 3"
    },
    "language_info": {
      "name": "python"
    }
  },
  "cells": [
    {
      "cell_type": "markdown",
      "metadata": {
        "id": "view-in-github",
        "colab_type": "text"
      },
      "source": [
        "<a href=\"https://colab.research.google.com/github/Karri-Narendra-Reddy/MachineLearning/blob/main/cycle_2_3.ipynb\" target=\"_parent\"><img src=\"https://colab.research.google.com/assets/colab-badge.svg\" alt=\"Open In Colab\"/></a>"
      ]
    },
    {
      "cell_type": "code",
      "execution_count": null,
      "metadata": {
        "colab": {
          "base_uri": "https://localhost:8080/"
        },
        "id": "TvbXav8bRdC7",
        "outputId": "83c0ace9-0a63-4a34-d9b5-5ed58fc5697c"
      },
      "outputs": [
        {
          "output_type": "stream",
          "name": "stdout",
          "text": [
            "['0', '1', '0', '1', '1', '1', '0', '1', '0', '1', '0', '0', '0', '1', '1', '1', '0', '1', '1', '0']\n",
            "['0', '0', '0', '0', '1', '0', '1', '1', '1', '1', '0', '0', '0', '0', '0', '1', '0', '1', '1', '1']\n"
          ]
        }
      ],
      "source": [
        "y = ['0','1','0','1','1','1','0','1','0','1','0','0','0','1','1','1','0','1','1','0']\n",
        "y_pred = ['0','0','0','0','1','0','1','1','1','1','0','0','0','0','0','1','0','1','1','1']\n",
        "print(y)\n",
        "print(y_pred)"
      ]
    },
    {
      "cell_type": "code",
      "source": [
        "j = 0\n",
        "TP,TN,FP,FN = 0,0,0,0\n",
        "for i in y:\n",
        "  if i=='1' and y_pred[j]=='1':\n",
        "    TP+=1\n",
        "  elif i=='0' and y_pred[j]=='0':\n",
        "    TN+=1\n",
        "  elif i=='1' and y_pred[j]=='0':\n",
        "    FP+=1\n",
        "  elif i=='0' and y_pred[j]=='1':\n",
        "    FN+=1\n",
        "  j+=1\n",
        "confusion_matrix = [TP,TN,FP,FN]\n",
        "print('confusion_matrix : ',confusion_matrix)\n",
        "ACCURACY = (TP + TN) / (TP + FP + TN + FN)\n",
        "print('Accuracy : ',ACCURACY)\n",
        "PRECISION = TP / (TP + FP)\n",
        "print('precision : ',PRECISION)\n",
        "RECALL = TP / (TP + FN)\n",
        "print('Recall : ',RECALL)\n",
        "SENSITIVITY = TP / (TP + FN)\n",
        "print('sensitivity : ',SENSITIVITY)\n",
        "MISCLASSIFICATION_ERROR = 1 - ACCURACY\n",
        "print('Misclassification Error : ',MISCLASSIFICATION_ERROR)"
      ],
      "metadata": {
        "colab": {
          "base_uri": "https://localhost:8080/"
        },
        "id": "mqQPIy3dRvE6",
        "outputId": "70c326d8-1c66-4463-a6a8-2919f0ec68d2"
      },
      "execution_count": null,
      "outputs": [
        {
          "output_type": "stream",
          "name": "stdout",
          "text": [
            "confusion_matrix :  [6, 6, 5, 3]\n",
            "Accuracy :  0.6\n",
            "precision :  0.5454545454545454\n",
            "Recall :  0.6666666666666666\n",
            "sensitivity :  0.6666666666666666\n",
            "Misclassification Error :  0.4\n"
          ]
        }
      ]
    }
  ]
}